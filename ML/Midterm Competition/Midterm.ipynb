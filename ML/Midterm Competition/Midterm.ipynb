{
 "cells": [
  {
   "cell_type": "markdown",
   "metadata": {},
   "source": [
    "## 讀資料"
   ]
  },
  {
   "cell_type": "code",
   "execution_count": 337,
   "metadata": {},
   "outputs": [],
   "source": [
    "import pandas as pd\n",
    "import numpy as np\n",
    "# read train data\n",
    "data=pd.read_csv(\"train.csv\")\n",
    "copy_data=data.copy()\n",
    "copy_data_d=copy_data.describe(percentiles=[0.1,0.25,0.5,0.75,0.9])\n",
    "\n",
    "features=copy_data.columns[:-1]\n",
    "\n",
    "# read test data\n",
    "test_data=pd.read_csv(\"X_test.csv\")\n",
    "test_data_d=test_data.describe(percentiles=[0.1,0.25,0.5,0.75,0.9])"
   ]
  },
  {
   "cell_type": "markdown",
   "metadata": {},
   "source": [
    "# 前處理"
   ]
  },
  {
   "cell_type": "markdown",
   "metadata": {},
   "source": [
    "## 前處理 1 - 刪除不採用 和 資料過少的column"
   ]
  },
  {
   "cell_type": "code",
   "execution_count": 338,
   "metadata": {},
   "outputs": [],
   "source": [
    "# drop columns with too many missing values\n",
    "drop_list=[\"D_sd1\",\"D_sds\",\"D_td0\"]\n",
    "# drop_list=[]\n",
    "\n",
    "for col in features:\n",
    "    if copy_data_d[col][\"count\"]<=500:\n",
    "        if col not in drop_list:\n",
    "            drop_list.append(col)\n",
    "    if test_data_d[col][\"count\"]<=500:\n",
    "        if col not in drop_list:\n",
    "            drop_list.append(col)\n",
    "\n",
    "copy_data=copy_data.drop(drop_list,axis=1)\n",
    "test_data=test_data.drop(drop_list,axis=1)\n",
    "\n",
    "copy_data_d=copy_data.describe(percentiles=[0.1,0.25,0.5,0.75,0.90])\n",
    "test_data_d=test_data.describe(percentiles=[0.1,0.25,0.5,0.75,0.90])"
   ]
  },
  {
   "cell_type": "markdown",
   "metadata": {},
   "source": [
    "## 前處理 2 - 年代處理 + outlier 處理"
   ]
  },
  {
   "cell_type": "code",
   "execution_count": 339,
   "metadata": {},
   "outputs": [],
   "source": [
    "# preprocessing copy_data[\"D_Dbuild\"]\n",
    "for i in range(len(copy_data[\"D_Dbuild\"])):\n",
    "    if np.isnan(copy_data.loc[i,\"D_Dbuild\"]):\n",
    "        continue\n",
    "    if copy_data.loc[i,\"D_Dbuild\"]>3000 or copy_data.loc[i,\"D_Dbuild\"]<-3000:\n",
    "        copy_data.loc[i,\"D_Dbuild\"]=copy_data.loc[i,\"D_Dbuild\"]/525960/60+1970\n",
    "\n",
    "for col in copy_data.columns:\n",
    "    for i in range(len(copy_data[col])):\n",
    "        if copy_data.loc[i,col]<0:\n",
    "            copy_data.loc[i,col]=0\n",
    "        if copy_data.loc[i,col]>copy_data_d[col][\"90%\"]*10:\n",
    "            copy_data.loc[i,col]=np.nan"
   ]
  },
  {
   "cell_type": "markdown",
   "metadata": {},
   "source": [
    "## 前處理 3 - IterativeImputer 進行差值填補"
   ]
  },
  {
   "cell_type": "code",
   "execution_count": 340,
   "metadata": {},
   "outputs": [],
   "source": [
    "from sklearn.experimental import enable_iterative_imputer\n",
    "from sklearn.impute import IterativeImputer\n",
    "from sklearn.linear_model import BayesianRidge\n",
    "\n",
    "imputer = IterativeImputer(estimator=BayesianRidge(max_iter=300,tol=1e-2),imputation_order='ascending',max_iter=30,random_state=42)\n",
    "\n",
    "X=copy_data.drop([\"D_isR\"],axis=1)\n",
    "Y=copy_data[\"D_isR\"].to_numpy()\n",
    "\n",
    "X_imputer=imputer.fit_transform(X)\n",
    "test_data_imputer=imputer.transform(test_data)"
   ]
  },
  {
   "cell_type": "markdown",
   "metadata": {},
   "source": [
    "## 前處理 4 - RobustScaler 進行正規化"
   ]
  },
  {
   "cell_type": "code",
   "execution_count": 341,
   "metadata": {},
   "outputs": [],
   "source": [
    "from sklearn.preprocessing import RobustScaler\n",
    "\n",
    "scaler = RobustScaler()\n",
    "X_imputer_sc=scaler.fit_transform(X_imputer)\n",
    "test_data_imputer_sc=scaler.transform(test_data_imputer)"
   ]
  },
  {
   "cell_type": "markdown",
   "metadata": {},
   "source": [
    "## 前處理 5 - 用 XGBoost 找 important feature"
   ]
  },
  {
   "cell_type": "code",
   "execution_count": 342,
   "metadata": {},
   "outputs": [
    {
     "name": "stdout",
     "output_type": "stream",
     "text": [
      "0.7819446132789462\n"
     ]
    },
    {
     "data": {
      "image/png": "[encoded data removed]",
      "text/plain": [
       "<Figure size 640x480 with 1 Axes>"
      ]
     },
     "metadata": {},
     "output_type": "display_data"
    },
    {
     "data": {
      "text/plain": [
       "Text(0.5, 0, 'Permutation Importance')"
      ]
     },
     "execution_count": 342,
     "metadata": {},
     "output_type": "execute_result"
    },
    {
     "data": {
      "image/png": "[encoded data removed]",
      "text/plain": [
       "<Figure size 640x480 with 1 Axes>"
      ]
     },
     "metadata": {},
     "output_type": "display_data"
    }
   ],
   "source": [
    "from xgboost import XGBClassifier\n",
    "from sklearn.ensemble import RandomForestClassifier\n",
    "from sklearn.model_selection import cross_val_score\n",
    "import matplotlib.pyplot as plt\n",
    "from sklearn.inspection import permutation_importance\n",
    "\n",
    "model=XGBClassifier(n_estimators=300, max_depth=20,learning_rate=0.1,gamma=0.2,scale_pos_weight=670/2664, random_state=42)\n",
    "\n",
    "model.fit(X_imputer_sc, Y)\n",
    "\n",
    "y_pred = model.predict(test_data_imputer_sc)\n",
    "\n",
    "results = cross_val_score(model, X_imputer_sc, Y, cv=5,scoring='accuracy')\n",
    "print(results.mean())\n",
    "\n",
    "# plot\n",
    "plt.bar(range(len(model.feature_importances_)), model.feature_importances_)\n",
    "plt.show()\n",
    "\n",
    "perm_importance_knn_sc = permutation_importance(model, X_imputer_sc, Y)\n",
    "plt.bar(range(len(model.feature_importances_)), perm_importance_knn_sc.importances_mean)\n",
    "plt.xlabel(\"Permutation Importance\")"
   ]
  },
  {
   "cell_type": "markdown",
   "metadata": {},
   "source": [
    "## 前處理 6 - 紀錄前8個 important features"
   ]
  },
  {
   "cell_type": "code",
   "execution_count": 343,
   "metadata": {},
   "outputs": [
    {
     "data": {
      "text/plain": [
       "['Avg_MBfy',\n",
       " 'Total_Floor',\n",
       " 'D_NeutralDepth',\n",
       " 'D_structure_4',\n",
       " 'D_1floorClassColA',\n",
       " 'D_CLsmall',\n",
       " 'D_basintype',\n",
       " 'D_475Acc']"
      ]
     },
     "execution_count": 343,
     "metadata": {},
     "output_type": "execute_result"
    }
   ],
   "source": [
    "importances_knn_sc=perm_importance_knn_sc.importances_mean\n",
    "importances_knn_sc_frame=pd.DataFrame(importances_knn_sc)\n",
    "importances_knn_sc_frame_10=importances_knn_sc_frame.nlargest(8,0)\n",
    "importances_knn_sc_frame_d=importances_knn_sc_frame.describe(percentiles=[0.1,0.25,0.5,0.75,0.9])\n",
    "\n",
    "importances_knn_sc_list=[]\n",
    "for i in importances_knn_sc_frame_10[0].index:\n",
    "    importances_knn_sc_list.append(copy_data.columns[i])\n",
    "\n",
    "# for i in range(len(importances_knn_sc)):\n",
    "#     if importances_knn_sc[i]>0.0000001:\n",
    "#         importances_knn_sc_list.append(copy_data.columns[i])\n",
    "importances_knn_sc_list"
   ]
  },
  {
   "cell_type": "markdown",
   "metadata": {},
   "source": [
    "## 前處理 7 - 只保留重要的 column 再做一次前處理"
   ]
  },
  {
   "cell_type": "code",
   "execution_count": 344,
   "metadata": {},
   "outputs": [],
   "source": [
    "final_X=copy_data[importances_knn_sc_list]\n",
    "final_test_data=test_data[importances_knn_sc_list]\n",
    "\n",
    "imputer = IterativeImputer(estimator=BayesianRidge(max_iter=300,tol=1e-2),imputation_order='ascending',max_iter=30,random_state=42)\n",
    "\n",
    "final_X_ip=imputer.fit_transform(final_X)\n",
    "final_test_data_ip=imputer.transform(final_test_data)\n",
    "\n",
    "scaler = RobustScaler()\n",
    "final_X_ip_sc=scaler.fit_transform(final_X_ip)\n",
    "final_test_data_ip_sc=scaler.transform(final_test_data_ip)"
   ]
  },
  {
   "cell_type": "code",
   "execution_count": 345,
   "metadata": {},
   "outputs": [],
   "source": [
    "scaler = RobustScaler()\n",
    "final_X_ip_sc=scaler.fit_transform(final_X_ip)\n",
    "final_test_data_ip_sc=scaler.transform(final_test_data_ip)"
   ]
  },
  {
   "cell_type": "markdown",
   "metadata": {},
   "source": [
    "## 前處理 8 - 用 SMOTE 處理不平衡資料"
   ]
  },
  {
   "cell_type": "code",
   "execution_count": 346,
   "metadata": {},
   "outputs": [
    {
     "data": {
      "text/plain": [
       "(5328, 8)"
      ]
     },
     "execution_count": 346,
     "metadata": {},
     "output_type": "execute_result"
    }
   ],
   "source": [
    "from imblearn.over_sampling import SMOTE\n",
    "oversample = SMOTE(random_state=42)\n",
    "Y=copy_data[\"D_isR\"].to_numpy()\n",
    "final_X_ip_sc, Y = oversample.fit_resample(final_X_ip_sc, Y)\n",
    "final_X_ip_sc.shape"
   ]
  },
  {
   "cell_type": "markdown",
   "metadata": {},
   "source": [
    "# 最後預測"
   ]
  },
  {
   "cell_type": "markdown",
   "metadata": {},
   "source": [
    "## 透過 confusion matrix 觀察 model 預測結果"
   ]
  },
  {
   "cell_type": "code",
   "execution_count": 347,
   "metadata": {},
   "outputs": [
    {
     "name": "stdout",
     "output_type": "stream",
     "text": [
      "=======================================================\n",
      "Test performance\n",
      "------------------------\n",
      "              precision    recall  f1-score   support\n",
      "\n",
      "           0       0.84      0.89      0.87       514\n",
      "           1       0.89      0.85      0.87       552\n",
      "\n",
      "    accuracy                           0.87      1066\n",
      "   macro avg       0.87      0.87      0.87      1066\n",
      "weighted avg       0.87      0.87      0.87      1066\n",
      "\n",
      "=======================================================\n",
      "Confusion matrix\n",
      "------------------------\n",
      "[[456  58]\n",
      " [ 84 468]]\n",
      "=======================================================\n"
     ]
    }
   ],
   "source": [
    "from sklearn.metrics import classification_report\n",
    "from sklearn.metrics import confusion_matrix\n",
    "from sklearn.model_selection import train_test_split\n",
    "\n",
    "X_train, X_test, Y_train, Y_test = train_test_split(final_X_ip_sc, Y, test_size=0.2, random_state=42)\n",
    "\n",
    "model=XGBClassifier(n_estimators=400, max_depth=15,learning_rate=0.1,gamma=0.2,scale_pos_weight=1, random_state=42)\n",
    "\n",
    "model.fit(X_train, Y_train)\n",
    "y_train_hat = model.predict(X_train)\n",
    "y_test_hat = model.predict(X_test)\n",
    "\n",
    "print(\"=======================================================\")\n",
    "print('Test performance')\n",
    "print('------------------------')\n",
    "print(classification_report(Y_test, y_test_hat))\n",
    "print(\"=======================================================\")\n",
    "print('Confusion matrix')\n",
    "print('------------------------')\n",
    "print(confusion_matrix(Y_test, y_test_hat))\n",
    "print('=======================================================')"
   ]
  },
  {
   "cell_type": "markdown",
   "metadata": {},
   "source": [
    "## 進行最後預測"
   ]
  },
  {
   "cell_type": "code",
   "execution_count": 348,
   "metadata": {},
   "outputs": [
    {
     "name": "stdout",
     "output_type": "stream",
     "text": [
      "accuracy =  0.8549420852821745\n",
      "f1 =  0.8658025713584319\n"
     ]
    }
   ],
   "source": [
    "from sklearn.model_selection import cross_val_score\n",
    "from sklearn.ensemble import RandomForestClassifier\n",
    "\n",
    "model=XGBClassifier(n_estimators=400, max_depth=17,learning_rate=0.1,gamma=0.2,scale_pos_weight=1, random_state=42)\n",
    "\n",
    "model.fit(final_X_ip_sc, Y)\n",
    "\n",
    "results1 = cross_val_score(model, final_X_ip_sc, Y, cv=5,scoring='accuracy')\n",
    "results2 = cross_val_score(model, final_X_ip_sc, Y, cv=5,scoring='f1')\n",
    "\n",
    "print(\"accuracy = \",results1.mean())\n",
    "print(\"f1 = \",results2.mean())\n",
    "\n",
    "y_pred = model.predict(final_test_data_ip_sc)\n"
   ]
  },
  {
   "cell_type": "markdown",
   "metadata": {},
   "source": [
    "## 儲存預測結果"
   ]
  },
  {
   "cell_type": "code",
   "execution_count": 349,
   "metadata": {},
   "outputs": [],
   "source": [
    "id=np.linspace(1, len(y_pred),len(y_pred))\n",
    "pred=pd.DataFrame({'id':id,'label':y_pred})\n",
    "pred.to_csv('pred.csv',index=False)"
   ]
  }
 ],
 "metadata": {
  "kernelspec": {
   "display_name": "base",
   "language": "python",
   "name": "python3"
  },
  "language_info": {
   "codemirror_mode": {
    "name": "ipython",
    "version": 3
   },
   "file_extension": ".py",
   "mimetype": "text/x-python",
   "name": "python",
   "nbconvert_exporter": "python",
   "pygments_lexer": "ipython3",
   "version": "3.10.13"
  }
 },
 "nbformat": 4,
 "nbformat_minor": 2
}
