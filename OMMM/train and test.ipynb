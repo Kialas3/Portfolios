{
 "cells": [
  {
   "cell_type": "code",
   "execution_count": 1,
   "metadata": {},
   "outputs": [],
   "source": [
    "import cv2\n",
    "import numpy as np\n",
    "from ultralytics import YOLO\n",
    "import pyautogui\n",
    "import time"
   ]
  },
  {
   "cell_type": "code",
   "execution_count": null,
   "metadata": {},
   "outputs": [],
   "source": [
    "path = '../happy/testpicture/test1.png'\n",
    "\n",
    "img = cv2.imread(path)\n",
    "\n",
    "cv2.imshow('image', img)\n",
    "resize_img = cv2.resize(img, (600, 600))\n",
    "cv2.imshow('resize', resize_img)\n"
   ]
  },
  {
   "cell_type": "code",
   "execution_count": null,
   "metadata": {},
   "outputs": [],
   "source": [
    "from ultralytics import YOLO\n",
    "model = YOLO(\"./yolov8m.pt\")\n",
    "results = model.train(data=\"D:/HuggingFaceLearning/happy/OMMM_Dataset/data.yaml\", epochs=100, imgsz=1080)"
   ]
  },
  {
   "cell_type": "code",
   "execution_count": null,
   "metadata": {},
   "outputs": [],
   "source": [
    "from ultralytics import YOLO\n",
    "model = YOLO(\"./runs/detect/train9/weights/best.pt\")\n",
    "result = model.predict(\n",
    "    source=\"./OMMM_Dataset/test/images/-17-_png.rf.a0c99a36a4512b802abca4a28f4f2578.jpg\",\n",
    "    mode=\"predict\",\n",
    "    save=True,\n",
    "    device=\"cpu\"\n",
    ")\n",
    "\n"
   ]
  },
  {
   "cell_type": "code",
   "execution_count": null,
   "metadata": {},
   "outputs": [],
   "source": [
    "import pyautogui\n",
    "import cv2\n",
    "import numpy as np\n",
    "import time\n",
    "\n",
    "# 設定擷取範圍 (x, y, width, height)\n",
    "capture_region = (0, 150, 2560, 1240) \n",
    "\n",
    "try:\n",
    "    print(\"按下 'q' 鍵結束程式。\")\n",
    "    while True:\n",
    "        # 截取當前螢幕畫面\n",
    "        screenshot = pyautogui.screenshot(region=capture_region)\n",
    "\n",
    "        # 將 PIL 圖片轉換為 NumPy 陣列 (RGB 格式)\n",
    "        screenshot_np = np.array(screenshot)\n",
    "\n",
    "        # 將圖片從 RGB 轉換為 BGR 格式 (OpenCV 預設使用 BGR)\n",
    "        screenshot_bgr = cv2.cvtColor(screenshot_np, cv2.COLOR_RGB2BGR)\n",
    "\n",
    "        resized_screenshot = cv2.resize(screenshot_bgr, (1000, 562))\n",
    "        \n",
    "        \n",
    "        # 顯示螢幕畫面\n",
    "        cv2.imshow(\"Live Screen\", resized_screenshot)\n",
    "\n",
    "        # 每幀延遲 30 毫秒 (約 33 FPS)\n",
    "        if cv2.waitKey(10) & 0xFF == ord('q'):\n",
    "            print(\"結束顯示\")\n",
    "            break\n",
    "\n",
    "except KeyboardInterrupt:\n",
    "    print(\"程式中止\")\n",
    "\n",
    "# 釋放資源並關閉視窗\n",
    "cv2.destroyAllWindows()\n"
   ]
  }
 ],
 "metadata": {
  "kernelspec": {
   "display_name": "base",
   "language": "python",
   "name": "python3"
  },
  "language_info": {
   "codemirror_mode": {
    "name": "ipython",
    "version": 3
   },
   "file_extension": ".py",
   "mimetype": "text/x-python",
   "name": "python",
   "nbconvert_exporter": "python",
   "pygments_lexer": "ipython3",
   "version": "3.12.7"
  }
 },
 "nbformat": 4,
 "nbformat_minor": 2
}
